{
 "cells": [
  {
   "cell_type": "code",
   "execution_count": 1,
   "metadata": {},
   "outputs": [],
   "source": [
    "import tweepy\n",
    "from pprint import pprint\n",
    "import json\n",
    "import requests\n",
    "\n",
    "consumer_key = 'GL6ZrwUbgfA2Ezq6MztSbqqFY'\n",
    "consumer_secret = 'Umb0YMt6G3UrpF6DIikHVE3XFqoAwEIuGa11veZ7uKKfcVrJsS'\n",
    "\n",
    "auth= tweepy.OAuthHandler(consumer_key,consumer_secret)\n",
    "\n",
    "\n",
    "#API setup\n",
    "api = tweepy.API(auth)"
   ]
  },
  {
   "cell_type": "code",
   "execution_count": 47,
   "metadata": {},
   "outputs": [
    {
     "name": "stdout",
     "output_type": "stream",
     "text": [
      "[{'trends': [{'name': '#INDvENG', 'url': 'http://twitter.com/search?q=%23INDvENG', 'promoted_content': None, 'query': '%23INDvENG', 'tweet_volume': 56889}, {'name': '#1YearWithSweetNight', 'url': 'http://twitter.com/search?q=%231YearWithSweetNight', 'promoted_content': None, 'query': '%231YearWithSweetNight', 'tweet_volume': 288307}, {'name': '#OurProducerBeomgyu', 'url': 'http://twitter.com/search?q=%23OurProducerBeomgyu', 'promoted_content': None, 'query': '%23OurProducerBeomgyu', 'tweet_volume': 565357}, {'name': 'Kohli', 'url': 'http://twitter.com/search?q=Kohli', 'promoted_content': None, 'query': 'Kohli', 'tweet_volume': 42019}, {'name': 'Say No To Bollywood', 'url': 'http://twitter.com/search?q=%22Say+No+To+Bollywood%22', 'promoted_content': None, 'query': '%22Say+No+To+Bollywood%22', 'tweet_volume': 41626}, {'name': '#INDvsENG_2021', 'url': 'http://twitter.com/search?q=%23INDvsENG_2021', 'promoted_content': None, 'query': '%23INDvsENG_2021', 'tweet_volume': None}, {'name': 'Rohit', 'url': 'http://twitter.com/search?q=Rohit', 'promoted_content': None, 'query': 'Rohit', 'tweet_volume': 37391}, {'name': '#6YearsWithAwakening', 'url': 'http://twitter.com/search?q=%236YearsWithAwakening', 'promoted_content': None, 'query': '%236YearsWithAwakening', 'tweet_volume': 69413}, {'name': 'Jason Roy', 'url': 'http://twitter.com/search?q=%22Jason+Roy%22', 'promoted_content': None, 'query': '%22Jason+Roy%22', 'tweet_volume': None}, {'name': 'England', 'url': 'http://twitter.com/search?q=England', 'promoted_content': None, 'query': 'England', 'tweet_volume': 103170}, {'name': 'Dhawan', 'url': 'http://twitter.com/search?q=Dhawan', 'promoted_content': None, 'query': 'Dhawan', 'tweet_volume': None}, {'name': 'Iyer', 'url': 'http://twitter.com/search?q=Iyer', 'promoted_content': None, 'query': 'Iyer', 'tweet_volume': 11818}, {'name': 'Pant', 'url': 'http://twitter.com/search?q=Pant', 'promoted_content': None, 'query': 'Pant', 'tweet_volume': 20035}, {'name': 'Bairstow', 'url': 'http://twitter.com/search?q=Bairstow', 'promoted_content': None, 'query': 'Bairstow', 'tweet_volume': None}, {'name': 'YAAD TERI HITS 40M', 'url': 'http://twitter.com/search?q=%22YAAD+TERI+HITS+40M%22', 'promoted_content': None, 'query': '%22YAAD+TERI+HITS+40M%22', 'tweet_volume': 85747}, {'name': 'Archer', 'url': 'http://twitter.com/search?q=Archer', 'promoted_content': None, 'query': 'Archer', 'tweet_volume': 17214}, {'name': 'Maths and Physics', 'url': 'http://twitter.com/search?q=%22Maths+and+Physics%22', 'promoted_content': None, 'query': '%22Maths+and+Physics%22', 'tweet_volume': None}, {'name': 'Happy 1', 'url': 'http://twitter.com/search?q=%22Happy+1%22', 'promoted_content': None, 'query': '%22Happy+1%22', 'tweet_volume': 692506}, {'name': 'Ayurveda', 'url': 'http://twitter.com/search?q=Ayurveda', 'promoted_content': None, 'query': 'Ayurveda', 'tweet_volume': 14425}, {'name': 'ARIJIT SINGH TURNS COMPOSER', 'url': 'http://twitter.com/search?q=%22ARIJIT+SINGH+TURNS+COMPOSER%22', 'promoted_content': None, 'query': '%22ARIJIT+SINGH+TURNS+COMPOSER%22', 'tweet_volume': 11722}, {'name': 'tom holland', 'url': 'http://twitter.com/search?q=%22tom+holland%22', 'promoted_content': None, 'query': '%22tom+holland%22', 'tweet_volume': 72495}, {'name': 'AAMIR KHAN BIRTHDAY CDP', 'url': 'http://twitter.com/search?q=%22AAMIR+KHAN+BIRTHDAY+CDP%22', 'promoted_content': None, 'query': '%22AAMIR+KHAN+BIRTHDAY+CDP%22', 'tweet_volume': 15123}, {'name': 'Morgan', 'url': 'http://twitter.com/search?q=Morgan', 'promoted_content': None, 'query': 'Morgan', 'tweet_volume': 75276}, {'name': 'Buttler', 'url': 'http://twitter.com/search?q=Buttler', 'promoted_content': None, 'query': 'Buttler', 'tweet_volume': None}, {'name': 'Chahal', 'url': 'http://twitter.com/search?q=Chahal', 'promoted_content': None, 'query': 'Chahal', 'tweet_volume': None}, {'name': 'MOST GOOGLED STAR ASIM', 'url': 'http://twitter.com/search?q=%22MOST+GOOGLED+STAR+ASIM%22', 'promoted_content': None, 'query': '%22MOST+GOOGLED+STAR+ASIM%22', 'tweet_volume': 168954}, {'name': 'Hardik', 'url': 'http://twitter.com/search?q=Hardik', 'promoted_content': None, 'query': 'Hardik', 'tweet_volume': None}, {'name': 'Malan', 'url': 'http://twitter.com/search?q=Malan', 'promoted_content': None, 'query': 'Malan', 'tweet_volume': None}, {'name': 'Indo-Pacific', 'url': 'http://twitter.com/search?q=Indo-Pacific', 'promoted_content': None, 'query': 'Indo-Pacific', 'tweet_volume': None}, {'name': 'Engineering', 'url': 'http://twitter.com/search?q=Engineering', 'promoted_content': None, 'query': 'Engineering', 'tweet_volume': 38364}, {'name': 'Jordan', 'url': 'http://twitter.com/search?q=Jordan', 'promoted_content': None, 'query': 'Jordan', 'tweet_volume': 138880}, {'name': 'Match', 'url': 'http://twitter.com/search?q=Match', 'promoted_content': None, 'query': 'Match', 'tweet_volume': 204676}, {'name': 'Ishan Kishan', 'url': 'http://twitter.com/search?q=%22Ishan+Kishan%22', 'promoted_content': None, 'query': '%22Ishan+Kishan%22', 'tweet_volume': None}, {'name': 'Gautam Adani', 'url': 'http://twitter.com/search?q=%22Gautam+Adani%22', 'promoted_content': None, 'query': '%22Gautam+Adani%22', 'tweet_volume': None}, {'name': 'T-20', 'url': 'http://twitter.com/search?q=T-20', 'promoted_content': None, 'query': 'T-20', 'tweet_volume': 108868}, {'name': 'Washi', 'url': 'http://twitter.com/search?q=Washi', 'promoted_content': None, 'query': 'Washi', 'tweet_volume': None}, {'name': 'Rashid', 'url': 'http://twitter.com/search?q=Rashid', 'promoted_content': None, 'query': 'Rashid', 'tweet_volume': None}, {'name': '#어여쁜_꽃처럼_피어난_범규의_스물하나', 'url': 'http://twitter.com/search?q=%23%EC%96%B4%EC%97%AC%EC%81%9C_%EA%BD%83%EC%B2%98%EB%9F%BC_%ED%94%BC%EC%96%B4%EB%82%9C_%EB%B2%94%EA%B7%9C%EC%9D%98_%EC%8A%A4%EB%AC%BC%ED%95%98%EB%82%98', 'promoted_content': None, 'query': '%23%EC%96%B4%EC%97%AC%EC%81%9C_%EA%BD%83%EC%B2%98%EB%9F%BC_%ED%94%BC%EC%96%B4%EB%82%9C_%EB%B2%94%EA%B7%9C%EC%9D%98_%EC%8A%A4%EB%AC%BC%ED%95%98%EB%82%98', 'tweet_volume': 229207}, {'name': '#T20I', 'url': 'http://twitter.com/search?q=%23T20I', 'promoted_content': None, 'query': '%23T20I', 'tweet_volume': None}, {'name': '#TrueBloodPump', 'url': 'http://twitter.com/search?q=%23TrueBloodPump', 'promoted_content': None, 'query': '%23TrueBloodPump', 'tweet_volume': None}, {'name': '#GiftOfLife', 'url': 'http://twitter.com/search?q=%23GiftOfLife', 'promoted_content': None, 'query': '%23GiftOfLife', 'tweet_volume': None}, {'name': '#ThankYouKejriwal', 'url': 'http://twitter.com/search?q=%23ThankYouKejriwal', 'promoted_content': None, 'query': '%23ThankYouKejriwal', 'tweet_volume': 25729}, {'name': '#따뜻하다_범규생일이_오려나봐', 'url': 'http://twitter.com/search?q=%23%EB%94%B0%EB%9C%BB%ED%95%98%EB%8B%A4_%EB%B2%94%EA%B7%9C%EC%83%9D%EC%9D%BC%EC%9D%B4_%EC%98%A4%EB%A0%A4%EB%82%98%EB%B4%90', 'promoted_content': None, 'query': '%23%EB%94%B0%EB%9C%BB%ED%95%98%EB%8B%A4_%EB%B2%94%EA%B7%9C%EC%83%9D%EC%9D%BC%EC%9D%B4_%EC%98%A4%EB%A0%A4%EB%82%98%EB%B4%90', 'tweet_volume': 252594}, {'name': '#RealHero', 'url': 'http://twitter.com/search?q=%23RealHero', 'promoted_content': None, 'query': '%23RealHero', 'tweet_volume': None}, {'name': '#50DaysToTHALA50Festival', 'url': 'http://twitter.com/search?q=%2350DaysToTHALA50Festival', 'promoted_content': None, 'query': '%2350DaysToTHALA50Festival', 'tweet_volume': 312388}, {'name': '#DonateBloodSaveLives', 'url': 'http://twitter.com/search?q=%23DonateBloodSaveLives', 'promoted_content': None, 'query': '%23DonateBloodSaveLives', 'tweet_volume': None}, {'name': '#EXOFREEDOM', 'url': 'http://twitter.com/search?q=%23EXOFREEDOM', 'promoted_content': None, 'query': '%23EXOFREEDOM', 'tweet_volume': 74978}, {'name': '#T20Cricket', 'url': 'http://twitter.com/search?q=%23T20Cricket', 'promoted_content': None, 'query': '%23T20Cricket', 'tweet_volume': None}, {'name': '#AskKV', 'url': 'http://twitter.com/search?q=%23AskKV', 'promoted_content': None, 'query': '%23AskKV', 'tweet_volume': None}, {'name': '#NextToRM', 'url': 'http://twitter.com/search?q=%23NextToRM', 'promoted_content': None, 'query': '%23NextToRM', 'tweet_volume': 48369}], 'as_of': '2021-03-12T16:57:47Z', 'created_at': '2021-03-12T06:45:28Z', 'locations': [{'name': 'India', 'woeid': 23424848}]}]\n"
     ]
    }
   ],
   "source": [
    "#Example\n",
    "#India=23424848, USA=23424977, UK=23424975, France=23424819, Japan=23424856, Brazil=23424768, Australia=23424748, Russia=23424936\n",
    "public_tweets = api.trends_place(23424848)\n",
    "print(public_tweets)\n",
    "out_file = open(\"Trends_India_12th.txt\", \"w\") \n",
    "json.dump(public_tweets, out_file) \n",
    "out_file.close()"
   ]
  },
  {
   "cell_type": "code",
   "execution_count": 41,
   "metadata": {},
   "outputs": [],
   "source": [
    "import csv\n",
    "list1=[]\n",
    "#out_file = open(\"tweetsPerTopic.txt\", \"w\")   \n",
    "#outfile= open('tweetTopic1_10th.csv', 'w', newline='')\n",
    "for tweet in tweepy.Cursor(api.search,q=\"Saka\",count=100,lang=\"en\",since=\"2021-03-13\",until=\"2021-03-14\").items(100):\n",
    "    print (tweet.created_at, tweet.text)\n",
    "    list1.append([tweet.created_at,tweet.text.encode('utf-8')])\n",
    "        \n",
    "fields = ['Created At', 'Text']  \n",
    "#print(list1)    \n",
    "with open('tweetTopic10_14th.csv', 'w',newline='') as csvfile:  \n",
    "    # creating a csv writer object\n",
    "    csvwriter = csv.writer(csvfile)  \n",
    "        \n",
    "    # writing the fields  \n",
    "    csvwriter.writerow(fields)  \n",
    "        \n",
    "    # writing the data rows  \n",
    "    csvwriter.writerows(list1) "
   ]
  },
  {
   "cell_type": "code",
   "execution_count": null,
   "metadata": {},
   "outputs": [],
   "source": []
  }
 ],
 "metadata": {
  "kernelspec": {
   "display_name": "Python 3",
   "language": "python",
   "name": "python3"
  },
  "language_info": {
   "codemirror_mode": {
    "name": "ipython",
    "version": 3
   },
   "file_extension": ".py",
   "mimetype": "text/x-python",
   "name": "python",
   "nbconvert_exporter": "python",
   "pygments_lexer": "ipython3",
   "version": "3.8.5"
  }
 },
 "nbformat": 4,
 "nbformat_minor": 4
}
